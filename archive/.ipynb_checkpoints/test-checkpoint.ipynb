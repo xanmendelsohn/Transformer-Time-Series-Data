{
 "cells": [
  {
   "cell_type": "code",
   "execution_count": 1,
   "id": "6f12c855-fa66-483f-a796-e8c5a9963a98",
   "metadata": {},
   "outputs": [],
   "source": [
    "import torch\n",
    "import numpy as np\n",
    "import pandas as pd\n",
    "import matplotlib.pyplot as plt\n",
    "import seaborn as sns\n",
    "import argparse\n",
    "import os"
   ]
  },
  {
   "cell_type": "code",
   "execution_count": null,
   "id": "1c07a729-db90-4050-8b0c-914939dcc4b2",
   "metadata": {},
   "outputs": [],
   "source": [
    "file_path = 'data/exchange_rate/exchange_rate.csv'\n",
    "df = pd.read_csv(file_path)"
   ]
  },
  {
   "cell_type": "code",
   "execution_count": null,
   "id": "a70b7296-756a-4670-808e-b84c8887f1f0",
   "metadata": {},
   "outputs": [],
   "source": [
    "df.head()"
   ]
  },
  {
   "cell_type": "code",
   "execution_count": null,
   "id": "0582fda4-91cc-4609-89d9-fc8384d31f9e",
   "metadata": {},
   "outputs": [],
   "source": [
    "# Display basic information about the dataset\n",
    "print(df.info())"
   ]
  },
  {
   "cell_type": "code",
   "execution_count": null,
   "id": "77071682-f3c0-40be-a577-13fa44eb4841",
   "metadata": {},
   "outputs": [],
   "source": [
    "# Display summary statistics\n",
    "print(df.describe())"
   ]
  },
  {
   "cell_type": "code",
   "execution_count": null,
   "id": "ad7b9a3a-24c2-454c-b16b-c6a699462cc7",
   "metadata": {},
   "outputs": [],
   "source": [
    "# Visualize the time series data\n",
    "plt.figure(figsize=(12, 6))\n",
    "plt.plot(df.index, df['OT'], label='exchange rate')\n",
    "plt.plot(df.index, df['0'], label='0')\n",
    "plt.plot(df.index, df['1'], label='1')\n",
    "plt.plot(df.index, df['2'], label='2')\n",
    "plt.plot(df.index, df['3'], label='3')\n",
    "plt.plot(df.index, df['4'], label='4')\n",
    "plt.plot(df.index, df['5'], label='5')\n",
    "plt.plot(df.index, df['6'], label='6')\n",
    "plt.title('Time Series Visualization Exchange Rate')\n",
    "plt.xlabel('Timestamp')\n",
    "plt.ylabel('Value')\n",
    "plt.legend()\n",
    "plt.show()"
   ]
  },
  {
   "cell_type": "code",
   "execution_count": null,
   "id": "227be091-7e4c-49a5-abd5-ff1a7005753a",
   "metadata": {},
   "outputs": [],
   "source": [
    "# Plot a time series decomposition\n",
    "from statsmodels.tsa.seasonal import seasonal_decompose\n",
    "\n",
    "result = seasonal_decompose(df['OT'], model='additive', period=1)  # Adjust 'period' as needed\n",
    "result.plot()\n",
    "plt.suptitle('Time Series Decomposition')\n",
    "plt.show()\n"
   ]
  },
  {
   "cell_type": "code",
   "execution_count": null,
   "id": "96ab7e89-cbad-478e-8c96-292a41dad1ac",
   "metadata": {},
   "outputs": [],
   "source": [
    "# Generate a sample signal\n",
    "fs = 1000  # Sampling frequency\n",
    "t = np.arange(0, 1, 1/fs)  # Time vector\n",
    "signal = np.sin(2 * np.pi * 5 * t) + 0.5 * np.random.randn(len(t))  # Example signal\n",
    "\n",
    "# Compute FFT\n",
    "fft_result = np.fft.fft(signal)\n"
   ]
  },
  {
   "cell_type": "code",
   "execution_count": null,
   "id": "1d9c7d3c-c93c-4fbf-8e97-6c893fd0632e",
   "metadata": {},
   "outputs": [],
   "source": [
    "# Calculate power spectrum\n",
    "power_spectrum = np.abs(fft_result)**2\n",
    "\n",
    "# Compute autocorrelation using inverse FFT\n",
    "autocorrelation = np.fft.ifft(power_spectrum)\n",
    "\n",
    "# Plot the original signal, power spectrum, and autocorrelation\n",
    "plt.figure(figsize=(12, 6))\n",
    "\n",
    "plt.subplot(4, 1, 1)\n",
    "plt.plot(t, signal)\n",
    "plt.title('Original Signal')\n",
    "\n",
    "plt.subplot(4, 1, 2)\n",
    "plt.plot(t, fft_result)\n",
    "plt.title('FFT Signal')\n",
    "\n",
    "plt.subplot(4, 1, 3)\n",
    "frequencies = np.fft.fftfreq(len(t), 1/fs)\n",
    "plt.plot(frequencies, power_spectrum)\n",
    "plt.title('Power Spectrum')\n",
    "\n",
    "plt.subplot(4, 1, 4)\n",
    "lags = np.arange(0, len(t))\n",
    "plt.plot(lags, autocorrelation)\n",
    "plt.title('Autocorrelation')\n",
    "\n",
    "plt.tight_layout()\n",
    "plt.show()"
   ]
  },
  {
   "cell_type": "code",
   "execution_count": null,
   "id": "9c9879e4-c98b-406e-993f-f7c66ff3fd2e",
   "metadata": {},
   "outputs": [],
   "source": [
    "from autoformer.utils.data_provider.data_factory import data_provider"
   ]
  },
  {
   "cell_type": "code",
   "execution_count": null,
   "id": "1216aac9-0f08-46c1-87c2-8d93db6cd0c4",
   "metadata": {},
   "outputs": [],
   "source": [
    "import torch\n",
    "import numpy as np\n",
    "import random\n",
    "\n",
    "class Arguments:\n",
    "    def __init__(self):\n",
    "        self.fix_seed: int = 2021\n",
    "        random.seed(self.fix_seed)\n",
    "        torch.manual_seed(self.fix_seed)\n",
    "        np.random.seed(self.fix_seed)\n",
    "\n",
    "        # basic config\n",
    "        self.is_training: int = 1\n",
    "        self.model_id: str = 'test'\n",
    "        self.model: str = 'Autoformer'\n",
    "\n",
    "        # data loader\n",
    "        self.data: str = 'custom'\n",
    "        self.root_path: str = './dataset/exchange_rate/'\n",
    "        self.data_path: str = 'exchange_rate.csv'\n",
    "        self.features: str = 'M'\n",
    "        self.target: str = 'OT'\n",
    "        self.freq: str = 'h'\n",
    "        self.checkpoints: str = './checkpoints/'\n",
    "\n",
    "        # forecasting task\n",
    "        self.seq_len: int = 96\n",
    "        self.label_len: int = 48\n",
    "        self.pred_len: int = 96\n",
    "\n",
    "        # model define\n",
    "        self.bucket_size: int = 4\n",
    "        self.n_hashes: int = 4\n",
    "        self.enc_in: int = 7\n",
    "        self.dec_in: int = 7\n",
    "        self.c_out: int = 7\n",
    "        self.d_model: int = 512\n",
    "        self.n_heads: int = 8\n",
    "        self.e_layers: int = 2\n",
    "        self.d_layers: int = 1\n",
    "        self.d_ff: int = 2048\n",
    "        self.moving_avg: int = 25\n",
    "        self.factor: int = 1\n",
    "        self.distil: bool = True\n",
    "        self.dropout: float = 0.05\n",
    "        self.embed: str = 'timeF'\n",
    "        self.activation: str = 'gelu'\n",
    "        self.output_attention: bool = False\n",
    "        self.do_predict: bool = False\n",
    "\n",
    "        # optimization\n",
    "        self.num_workers: int = 10\n",
    "        self.itr: int = 2\n",
    "        self.train_epochs: int = 10\n",
    "        self.batch_size: int = 32\n",
    "        self.patience: int = 3\n",
    "        self.learning_rate: float = 0.0001\n",
    "        self.des: str = 'test'\n",
    "        self.loss: str = 'mse'\n",
    "        self.lradj: str = 'type1'\n",
    "        self.use_amp: bool = False\n",
    "\n",
    "        # GPU\n",
    "        self.use_gpu: bool = torch.cuda.is_available()\n",
    "        self.gpu: int = 0\n",
    "        self.use_multi_gpu: bool = False\n",
    "        self.devices: str = '0,1,2,3'\n",
    "        self.device_ids: List[int] = [int(id_) for id_ in self.devices.replace(' ', '').split(',')]\n"
   ]
  },
  {
   "cell_type": "code",
   "execution_count": null,
   "id": "f7b6bfeb-03ca-4634-8e94-2e8d0e9e2540",
   "metadata": {},
   "outputs": [],
   "source": [
    "args_instance = Arguments()"
   ]
  },
  {
   "cell_type": "code",
   "execution_count": null,
   "id": "19470696-6471-409b-aa8b-d587c7bea986",
   "metadata": {},
   "outputs": [],
   "source": [
    "\n",
    "args_instance.is_training = 1\n",
    "args_instance.root_path = './data/exchange_rate/'\n",
    "args_instance.data_path = 'exchange_rate.csv'\n",
    "args_instance.model_id = 'Exchange_96_96'\n",
    "args_instance.model = 'Autoformer'\n",
    "args_instance.data = 'custom'\n",
    "args_instance.features = 'M'\n",
    "args_instance.seq_len = 96\n",
    "args_instance.label_len = 48\n",
    "args_instance.pred_len = 96\n",
    "args_instance.e_layers = 2\n",
    "args_instance.d_layers = 1\n",
    "args_instance.factor = 3\n",
    "args_instance.enc_in = 8\n",
    "args_instance.dec_in = 8\n",
    "args_instance.c_out = 8\n",
    "args_instance.des = 'Exp'\n",
    "args_instance.itr = 1\n"
   ]
  },
  {
   "cell_type": "code",
   "execution_count": null,
   "id": "adfdbe43-9510-48dd-b153-1ba1695c1103",
   "metadata": {},
   "outputs": [],
   "source": [
    "test_data, test_loader = data_provider(args = args_instance, flag='test')"
   ]
  },
  {
   "cell_type": "code",
   "execution_count": null,
   "id": "8d1da687-6a2e-45ea-a58a-b87d64afda52",
   "metadata": {},
   "outputs": [],
   "source": [
    "len(test_loader)"
   ]
  },
  {
   "cell_type": "code",
   "execution_count": null,
   "id": "40e5bbb7-f400-4907-a847-0851dba10074",
   "metadata": {},
   "outputs": [],
   "source": [
    "for batch in test_loader:\n",
    "    # The batch is a tuple or dictionary containing your data\n",
    "    # For simplicity, let's assume it's a tuple\n",
    "    batch_x, batch_y, batch_x_mark, batch_y_mark = batch\n",
    "\n",
    "    # Break the loop after processing the first batch\n",
    "    break"
   ]
  },
  {
   "cell_type": "code",
   "execution_count": null,
   "id": "51084e24-210e-44b7-9a17-c2dddeea8db8",
   "metadata": {},
   "outputs": [],
   "source": [
    "batch_x[0].shape"
   ]
  },
  {
   "cell_type": "code",
   "execution_count": null,
   "id": "8e13fa4c-217c-4578-87f1-d1b2deb8665b",
   "metadata": {},
   "outputs": [],
   "source": [
    "batch_y[0].shape"
   ]
  },
  {
   "cell_type": "code",
   "execution_count": null,
   "id": "d7bdd739-3e8f-4954-9adf-9ba3a9c02ef7",
   "metadata": {},
   "outputs": [],
   "source": [
    "batch_y_mark[0].shape"
   ]
  },
  {
   "cell_type": "code",
   "execution_count": null,
   "id": "7be65585-53e0-44bb-98b6-e8a016aec0ba",
   "metadata": {},
   "outputs": [],
   "source": [
    "batch_x_mark[0].shape"
   ]
  },
  {
   "cell_type": "code",
   "execution_count": null,
   "id": "dde210df-3fda-4448-8c27-60dc72aaa328",
   "metadata": {},
   "outputs": [],
   "source": [
    "tmp_stamp = df_raw[['date']][border1:border2]\n",
    "tmp_stamp['date'] = pd.to_datetime(tmp_stamp.date)\n",
    "pred_dates = pd.date_range(tmp_stamp.date.values[-1], periods=self.pred_len + 1, freq=self.freq)\n",
    "\n",
    "df_stamp = pd.DataFrame(columns=['date'])\n",
    "df_stamp.date = list(tmp_stamp.date.values) + list(pred_dates[1:])\n",
    "if self.timeenc == 0:\n",
    "    df_stamp['month'] = df_stamp.date.apply(lambda row: row.month, 1)\n",
    "    df_stamp['day'] = df_stamp.date.apply(lambda row: row.day, 1)\n",
    "    df_stamp['weekday'] = df_stamp.date.apply(lambda row: row.weekday(), 1)\n",
    "    df_stamp['hour'] = df_stamp.date.apply(lambda row: row.hour, 1)\n",
    "    df_stamp['minute'] = df_stamp.date.apply(lambda row: row.minute, 1)\n",
    "    df_stamp['minute'] = df_stamp.minute.map(lambda x: x // 15)\n",
    "    data_stamp = df_stamp.drop(['date'], 1).values\n",
    "elif self.timeenc == 1:\n",
    "    data_stamp = time_features(pd.to_datetime(df_stamp['date'].values), freq=self.freq)\n",
    "    data_stamp = data_stamp.transpose(1, 0)"
   ]
  },
  {
   "cell_type": "code",
   "execution_count": null,
   "id": "259a76b9-c540-4de7-844d-3e628fd4f624",
   "metadata": {},
   "outputs": [],
   "source": [
    "tmp_stamp = df[['date']]"
   ]
  },
  {
   "cell_type": "code",
   "execution_count": null,
   "id": "a5b956f9-ffaa-4eaa-acd9-15d7a82f6b4a",
   "metadata": {},
   "outputs": [],
   "source": [
    "tmp_stamp['date'] = pd.to_datetime(tmp_stamp.date)"
   ]
  },
  {
   "cell_type": "code",
   "execution_count": null,
   "id": "41ddb26a-736a-48fa-893d-a6effb12a689",
   "metadata": {},
   "outputs": [],
   "source": [
    "pred_dates = pd.date_range(tmp_stamp.date.values[-1], periods=96 + 1, freq='h')"
   ]
  },
  {
   "cell_type": "code",
   "execution_count": null,
   "id": "6ab83bba-429f-4d82-9e5e-7dc7f73e6166",
   "metadata": {},
   "outputs": [],
   "source": [
    "df_stamp = pd.DataFrame(columns=['date'])\n",
    "df_stamp.date = list(tmp_stamp.date.values) + list(pred_dates[1:])"
   ]
  },
  {
   "cell_type": "code",
   "execution_count": null,
   "id": "6c439ec8-0fa0-45c9-bca1-de61e83f4848",
   "metadata": {},
   "outputs": [],
   "source": [
    "df_stamp['month'] = df_stamp.date.apply(lambda row: row.month, 1)\n",
    "df_stamp['day'] = df_stamp.date.apply(lambda row: row.day, 1)\n",
    "df_stamp['weekday'] = df_stamp.date.apply(lambda row: row.weekday(), 1)\n",
    "df_stamp['hour'] = df_stamp.date.apply(lambda row: row.hour, 1)\n",
    "df_stamp['minute'] = df_stamp.date.apply(lambda row: row.minute, 1)\n",
    "df_stamp['minute'] = df_stamp.minute.map(lambda x: x // 15)\n",
    "#data_stamp = df_stamp.drop(['date'], 1).values"
   ]
  },
  {
   "cell_type": "code",
   "execution_count": null,
   "id": "4005379c-b0be-4a2f-9181-7189e2e1585d",
   "metadata": {},
   "outputs": [],
   "source": [
    "df_stamp"
   ]
  },
  {
   "cell_type": "code",
   "execution_count": null,
   "id": "d4aec334-0e3c-4543-9549-2a5914992936",
   "metadata": {},
   "outputs": [],
   "source": [
    "df_stamp.columns"
   ]
  },
  {
   "cell_type": "code",
   "execution_count": null,
   "id": "2bb0f948-3b42-49a9-b5e0-e18343f2bc75",
   "metadata": {},
   "outputs": [],
   "source": [
    "batch_x_mark"
   ]
  },
  {
   "cell_type": "code",
   "execution_count": 2,
   "id": "b01e8889-010c-4266-b9f9-008b631a4242",
   "metadata": {},
   "outputs": [
    {
     "ename": "ModuleNotFoundError",
     "evalue": "No module named 'utils'",
     "output_type": "error",
     "traceback": [
      "\u001b[0;31m---------------------------------------------------------------------------\u001b[0m",
      "\u001b[0;31mModuleNotFoundError\u001b[0m                       Traceback (most recent call last)",
      "Cell \u001b[0;32mIn[2], line 1\u001b[0m\n\u001b[0;32m----> 1\u001b[0m \u001b[38;5;28;01mfrom\u001b[39;00m \u001b[38;5;21;01mutils\u001b[39;00m\u001b[38;5;21;01m.\u001b[39;00m\u001b[38;5;21;01mdata_provider\u001b[39;00m\u001b[38;5;21;01m.\u001b[39;00m\u001b[38;5;21;01mdata_factory\u001b[39;00m \u001b[38;5;28;01mimport\u001b[39;00m data_provider\n\u001b[1;32m      2\u001b[0m \u001b[38;5;28;01mfrom\u001b[39;00m \u001b[38;5;21;01mexp\u001b[39;00m\u001b[38;5;21;01m.\u001b[39;00m\u001b[38;5;21;01mexp_basic\u001b[39;00m \u001b[38;5;28;01mimport\u001b[39;00m Exp_Basic\n\u001b[1;32m      3\u001b[0m \u001b[38;5;28;01mfrom\u001b[39;00m \u001b[38;5;21;01mutils\u001b[39;00m\u001b[38;5;21;01m.\u001b[39;00m\u001b[38;5;21;01mtools\u001b[39;00m \u001b[38;5;28;01mimport\u001b[39;00m EarlyStopping, adjust_learning_rate, visual\n",
      "\u001b[0;31mModuleNotFoundError\u001b[0m: No module named 'utils'"
     ]
    }
   ],
   "source": [
    "from utils.data_provider.data_factory import data_provider\n",
    "from exp.exp_basic import Exp_Basic\n",
    "from utils.tools import EarlyStopping, adjust_learning_rate, visual\n",
    "from utils.metrics import metric\n",
    "import torch\n",
    "import torch.nn as nn\n",
    "from torch import optim\n",
    "import os\n",
    "import time\n",
    "import warnings\n",
    "import numpy as np"
   ]
  },
  {
   "cell_type": "code",
   "execution_count": 4,
   "id": "09596aad-977b-443d-814d-35e133c1fb71",
   "metadata": {},
   "outputs": [
    {
     "data": {
      "text/plain": [
       "'/Users/alexandermendelsohn/Documents/Time-Series-Tranformer-PyTorch/Transformer-Time-Series-Data'"
      ]
     },
     "execution_count": 4,
     "metadata": {},
     "output_type": "execute_result"
    }
   ],
   "source": [
    "os.getcwd()"
   ]
  },
  {
   "cell_type": "code",
   "execution_count": null,
   "id": "9468c3b7-9166-44de-af99-0b1a457ba701",
   "metadata": {},
   "outputs": [],
   "source": []
  }
 ],
 "metadata": {
  "kernelspec": {
   "display_name": "Python 3 (ipykernel)",
   "language": "python",
   "name": "python3"
  },
  "language_info": {
   "codemirror_mode": {
    "name": "ipython",
    "version": 3
   },
   "file_extension": ".py",
   "mimetype": "text/x-python",
   "name": "python",
   "nbconvert_exporter": "python",
   "pygments_lexer": "ipython3",
   "version": "3.11.4"
  }
 },
 "nbformat": 4,
 "nbformat_minor": 5
}
